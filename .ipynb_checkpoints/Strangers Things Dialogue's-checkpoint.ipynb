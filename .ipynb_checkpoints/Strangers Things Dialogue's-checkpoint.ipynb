{
 "cells": [
  {
   "cell_type": "code",
   "execution_count": null,
   "id": "5a41ebec",
   "metadata": {},
   "outputs": [],
   "source": [
    "import pandas as pd \n",
    "import numpy as np \n",
    "import seaborn as sns \n",
    "from matplotlib import pyplot as plt\n",
    "%matplotlib inline"
   ]
  },
  {
   "cell_type": "code",
   "execution_count": null,
   "id": "1d4e6875",
   "metadata": {},
   "outputs": [],
   "source": [
    "df= pd.read_csv('stranger_things_all_dialogue.csv')\n",
    "df.head(10)"
   ]
  },
  {
   "cell_type": "code",
   "execution_count": null,
   "id": "ace1f1e9",
   "metadata": {},
   "outputs": [],
   "source": [
    "df.shape"
   ]
  },
  {
   "cell_type": "code",
   "execution_count": null,
   "id": "09bdbcc2",
   "metadata": {},
   "outputs": [],
   "source": [
    "df.columns"
   ]
  },
  {
   "cell_type": "code",
   "execution_count": null,
   "id": "1e24463f",
   "metadata": {},
   "outputs": [],
   "source": [
    "df.info()"
   ]
  },
  {
   "cell_type": "code",
   "execution_count": null,
   "id": "1ce1bb17",
   "metadata": {},
   "outputs": [],
   "source": [
    "df.isnull().sum()"
   ]
  },
  {
   "cell_type": "code",
   "execution_count": null,
   "id": "a151b62f",
   "metadata": {},
   "outputs": [],
   "source": [
    "df['episode'].describe()"
   ]
  },
  {
   "cell_type": "code",
   "execution_count": null,
   "id": "52b547d8",
   "metadata": {},
   "outputs": [],
   "source": [
    "# Combining Season column and episode column together, digit before decimal point is season and digit after decimal is the no. of episode\n",
    "df['episode']= df['season'] + df['episode']*0.1\n",
    "df.head(10)"
   ]
  },
  {
   "cell_type": "code",
   "execution_count": null,
   "id": "df1138ae",
   "metadata": {},
   "outputs": [],
   "source": [
    "#droping the season column\n",
    "df.drop('season',axis=1, inplace=True)\n",
    "df.head(10)"
   ]
  },
  {
   "cell_type": "code",
   "execution_count": null,
   "id": "68b4aaf8",
   "metadata": {},
   "outputs": [],
   "source": [
    "df['end_time1']= pd.to_timedelta(df['end_time'])\n",
    "df['start_time1']= pd.to_timedelta(df['start_time'])\n",
    "# df['duration(in sec)']= df['end_time'] - df['start_time']\n",
    "df['Duration(in sec)'] = (df['end_time1'] - df['start_time1']).dt.total_seconds()\n",
    "df.head()"
   ]
  },
  {
   "cell_type": "code",
   "execution_count": null,
   "id": "f03c6ac0",
   "metadata": {},
   "outputs": [],
   "source": [
    "df['Duration(in sec)'].describe()"
   ]
  },
  {
   "cell_type": "code",
   "execution_count": null,
   "id": "92efbe40",
   "metadata": {},
   "outputs": [],
   "source": [
    "df.drop('end_time1',axis=1, inplace=True)\n",
    "df.drop('start_time1',axis=1, inplace=True)\n",
    "df.head()"
   ]
  },
  {
   "cell_type": "code",
   "execution_count": null,
   "id": "9fe722a1",
   "metadata": {},
   "outputs": [],
   "source": [
    "df[['raw_text', 'stage_direction', 'dialogue']].head(20)"
   ]
  },
  {
   "cell_type": "code",
   "execution_count": null,
   "id": "95c30be3",
   "metadata": {},
   "outputs": [],
   "source": [
    "df.drop('raw_text',axis=1, inplace=True)\n",
    "df['stage_direction'].fillna('None',inplace=True)\n",
    "df['dialogue'].fillna('No dialogue',inplace=True)\n",
    "df.head(10)"
   ]
  },
  {
   "cell_type": "code",
   "execution_count": null,
   "id": "8ca96c0d",
   "metadata": {},
   "outputs": [],
   "source": [
    "df['dialogue'].value_counts().head(15)"
   ]
  },
  {
   "cell_type": "code",
   "execution_count": null,
   "id": "5c90c2ca",
   "metadata": {},
   "outputs": [],
   "source": [
    "df[df['dialogue']==' '].head(15)"
   ]
  },
  {
   "cell_type": "code",
   "execution_count": null,
   "id": "e787c4df",
   "metadata": {},
   "outputs": [],
   "source": [
    "df['dialogue']=df['dialogue'].str.replace(r'^\\s*$','No dialogue', regex=True)\n",
    "df['dialogue'].value_counts().head(15)"
   ]
  },
  {
   "cell_type": "code",
   "execution_count": null,
   "id": "929d38b7",
   "metadata": {},
   "outputs": [],
   "source": [
    "for i in range(1,5):\n",
    "    filtered_df = df[(df['episode'] > i) & (df['episode'] < i + 1)]\n",
    "    # Calculate the length (number of rows) of the filtered DataFrame\n",
    "    length = len(filtered_df)\n",
    "    print(f'There are {length} dialogues in season {i}')\n"
   ]
  },
  {
   "cell_type": "code",
   "execution_count": null,
   "id": "e5d75c7f",
   "metadata": {},
   "outputs": [],
   "source": [
    "episode_array= df['episode'].unique()\n",
    "for i in range(1,5):\n",
    "    episode_count=0\n",
    "    for j in episode_array:\n",
    "        if j>i and j<i+1 :\n",
    "            episode_count+=1\n",
    "    print(f'There are {episode_count} episodes in season {i}')"
   ]
  },
  {
   "cell_type": "code",
   "execution_count": null,
   "id": "b5901420",
   "metadata": {},
   "outputs": [],
   "source": [
    "df['Duration(in sec)'].value_counts()"
   ]
  },
  {
   "cell_type": "code",
   "execution_count": null,
   "id": "7e0823e4",
   "metadata": {},
   "outputs": [],
   "source": []
  }
 ],
 "metadata": {
  "kernelspec": {
   "display_name": "Python 3 (ipykernel)",
   "language": "python",
   "name": "python3"
  },
  "language_info": {
   "codemirror_mode": {
    "name": "ipython",
    "version": 3
   },
   "file_extension": ".py",
   "mimetype": "text/x-python",
   "name": "python",
   "nbconvert_exporter": "python",
   "pygments_lexer": "ipython3",
   "version": "3.9.10"
  },
  "varInspector": {
   "cols": {
    "lenName": 16,
    "lenType": 16,
    "lenVar": 40
   },
   "kernels_config": {
    "python": {
     "delete_cmd_postfix": "",
     "delete_cmd_prefix": "del ",
     "library": "var_list.py",
     "varRefreshCmd": "print(var_dic_list())"
    },
    "r": {
     "delete_cmd_postfix": ") ",
     "delete_cmd_prefix": "rm(",
     "library": "var_list.r",
     "varRefreshCmd": "cat(var_dic_list()) "
    }
   },
   "types_to_exclude": [
    "module",
    "function",
    "builtin_function_or_method",
    "instance",
    "_Feature"
   ],
   "window_display": false
  }
 },
 "nbformat": 4,
 "nbformat_minor": 5
}
